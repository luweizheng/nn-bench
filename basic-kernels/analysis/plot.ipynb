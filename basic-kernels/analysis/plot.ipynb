{
 "cells": [
  {
   "cell_type": "code",
   "execution_count": 1,
   "metadata": {},
   "outputs": [],
   "source": [
    "%matplotlib inline\n",
    "%load_ext autoreload\n",
    "%autoreload 2\n",
    "\n",
    "#from plotting_utils import *\n",
    "#from ml_utils import *\n",
    "import json\n",
    "import numpy as np\n",
    "import matplotlib\n",
    "import matplotlib.pyplot as plt\n",
    "import math\n",
    "import seaborn as sns;\n",
    "import scipy\n",
    "import os\n",
    "\n",
    "matplotlib.rcParams['figure.dpi']= 150\n",
    "\n",
    "colors = sns.color_palette(\"hls\", n_colors=11)"
   ]
  },
  {
   "cell_type": "code",
   "execution_count": 2,
   "metadata": {},
   "outputs": [],
   "source": [
    "'''\n",
    "Read a json file, return a dict.\n",
    "'''\n",
    "def get_data(filename = ''):\n",
    "    if not os.path.isfile( filename + '.json'):\n",
    "      print(filename + '.json', 'does not exist.')\n",
    "      return None\n",
    "    with open(filename + '.json', 'r') as infile:\n",
    "        d = json.load(infile)\n",
    "    #if 'tpu' in filename and 'flops' in d:\n",
    "    #    d['flops'] = np.multiply(d['flops'] ,8)\n",
    "    return d"
   ]
  },
  {
   "cell_type": "code",
   "execution_count": 3,
   "metadata": {},
   "outputs": [],
   "source": [
    "def plot_roofline(f, ax, d, tpu_peak, membdw_peak, \\\n",
    "                  scale='absolute', color_map={}, color_dim='', color=0, thre=1, label='', title=''):\n",
    "\n",
    "    colormap = {}\n",
    "    \n",
    "    d['flops']=np.multiply(d['flops'], 1e-12)\n",
    "    print(\"flops *\",d['flops'])\n",
    "    flops=np.multiply(d['flops'], tpu_peak/100)\n",
    "    \n",
    "    labels = d['labels']\n",
    "    intensity = d['arithemetic_intensity']\n",
    "    if color_dim == '':\n",
    "        if color == 0:\n",
    "          ax.plot(d['arithemetic_intensity'], flops, '.', label=label)\n",
    "        else:\n",
    "          ax.plot(d['arithemetic_intensity'], flops, '.', label=label, color=color, alpha=0.9)\n",
    "    else:\n",
    "        \n",
    "        hist = {}\n",
    "        for i in range(len(labels)):\n",
    "            l = d['labels'][i]\n",
    "            n = d['batch_size'][i]          \n",
    "            if intensity[i]<=0 or flops[i]<=0:\n",
    "              continue\n",
    "            if not n in hist:\n",
    "                hist[n] = 0    \n",
    "            hist[n] += 1\n",
    "        for k,v in iter(hist.items()):\n",
    "            hist[k] = v*1.0/len(labels)\n",
    "        \n",
    "        m = {}\n",
    "        mycolors = sns.color_palette(\"hls\", n_colors=len(hist)+2)\n",
    "        for i in range(len(labels)):\n",
    "            #if time[i] < thre:\n",
    "            #  continue\n",
    "            if intensity[i]<=0 or flops[i]<=0:\n",
    "              continue\n",
    "            l = labels[i]\n",
    "            n = d['batch_size'][i]\n",
    "                    \n",
    "            if color_map != {}:\n",
    "                if n in color_map:\n",
    "                    if n in m:\n",
    "                      ax.plot(intensity[i], flops[i], '.', color=color_map[n], marker='.')\n",
    "                    else:\n",
    "                      ax.plot(intensity[i], flops[i], '.', color=color_map[n], marker='.', label = n)\n",
    "                      m[n] = 1\n",
    "                continue    \n",
    "            if n in m:\n",
    "                ax.plot(intensity[i], flops[i], '.',\n",
    "                        color=mycolors[m[n]], marker='.')\n",
    "            elif not n in m:\n",
    "                \n",
    "                m[n] = len(m) % len(colors)\n",
    "                colormap[n] = mycolors[m[n]]\n",
    "                ax.plot(intensity[i], flops[i], '.',\n",
    "                        color=mycolors[m[n]], label = n, \n",
    "                        #markeredgecolor='black', markeredgewidth=0.5, \n",
    "                        marker='.')\n",
    "\n",
    "        ax.legend(frameon=True, bbox_to_anchor=(1, 0.5))\n",
    "\n",
    "    x1 = tpu_peak / membdw_peak\n",
    "    y1 = tpu_peak\n",
    "      \n",
    "    if max(d['arithemetic_intensity']) > x1:\n",
    "        if color == 0:\n",
    "            ax.hlines(y=y1, xmin=x1, \n",
    "                xmax=max(d['arithemetic_intensity']), linewidth=2, color=colors[0])\n",
    "        else:\n",
    "            ax.hlines(y=y1, xmin=x1, \n",
    "                xmax=max(d['arithemetic_intensity']), linewidth=2, color=color)\n",
    "    \n",
    "    #x2 = min(d['flops_perc'])*(tpu_peak/100)/membdw_peak\n",
    "    #y2 = min(d['flops_perc'])*(tpu_peak/100)\n",
    "    x2 = min(d['flops'])*(tpu_peak/100)/membdw_peak\n",
    "    y2 = min(d['flops'])*(tpu_peak/100)\n",
    "\n",
    "    if scale == 'relative':\n",
    "        y1 = 100\n",
    "        y2 = x2 * membdw_peak / tpu_peak * 100\n",
    "    if color == 0:\n",
    "        ax.plot([x1, x2], [y1, y2], linewidth=2, color=colors[0])\n",
    "    else:\n",
    "        ax.plot([x1, x2], [y1, y2], linewidth=2, color=color)\n",
    "        \n",
    "    ax.set_yscale('log')\n",
    "    ax.set_xscale('log')\n",
    "    if scale == 'absolute':\n",
    "      ax.set_ylabel('GFLOPS', fontsize=15)\n",
    "    else:\n",
    "      ax.set_ylabel('FLOPS %', fontsize=15)\n",
    "      ax.set_ylim(top=100)\n",
    "    ax.set_xlabel('Floating Ops/Byte', fontsize=15)\n",
    "    ax.set_title(title, fontsize=15)\n",
    "\n",
    "    if colormap == {}:\n",
    "        colormap = color_map\n",
    "    return f, ax, colormap"
   ]
  },
  {
   "cell_type": "code",
   "execution_count": 6,
   "metadata": {},
   "outputs": [
    {
     "name": "stdout",
     "output_type": "stream",
     "text": [
      "flops * [39.29458576 63.36367684 58.41648871 77.76229175 60.07310158 39.30649659\n",
      " 81.77376282 65.77494975 60.32799738 72.48586372 70.88565009 59.48734662\n",
      " 60.03655607 63.21304257 35.15761934 36.1272568  79.06602552 36.82156833\n",
      " 47.34979615 75.79496493 81.39538308 48.41071184 58.56132598 75.45281371\n",
      " 19.71377996 70.34914535 43.18681875 64.64710192 48.71999262 60.4519024\n",
      " 83.3396336  37.36906701 42.29194675 69.77496468 63.69965865 73.10413529\n",
      " 67.16528039 81.00923797 77.76658191 69.31015609 75.63181443 57.98844271\n",
      " 61.63222255 36.39421532 48.36605217 65.2365728  76.37985033 45.45685401\n",
      " 62.48206727 52.26002495 82.81032226 64.71692418 65.06578603 84.29808775\n",
      " 39.6659662  78.01700065 65.69381811 19.46132128 51.77513599 39.06402149\n",
      " 51.05043716 80.0449249  83.029321   70.34361282 74.91166246 36.99078226\n",
      " 74.17321591 64.61100049 82.28751917 80.81596256 54.05901644 83.08766043\n",
      " 72.38344694 72.01139729 47.57604316 68.99062412 84.36925523 77.34398752\n",
      " 15.90920922 74.75311977 65.77623703 35.92744426 40.72139727 38.11951842\n",
      " 62.44776263 44.72462789  8.87420474 38.78587045 70.06856061 75.98720871\n",
      " 53.92154098 54.41671074 73.15673001 43.3474985  78.41028219 58.46253778\n",
      " 70.72876464 63.4131446  63.13870183 48.81186229 35.93103586 73.29416034\n",
      " 72.843859   52.82519239 53.07565813 75.71052385 73.09696861 55.33382603]\n"
     ]
    },
    {
     "data": {
      "text/plain": [
       "<matplotlib.legend.Legend at 0x152729ac5e20>"
      ]
     },
     "execution_count": 6,
     "metadata": {},
     "output_type": "execute_result"
    },
    {
     "data": {
      "image/png": "[encoded data removed]",
      "text/plain": [
       "<Figure size 450x450 with 1 Axes>"
      ]
     },
     "metadata": {
      "needs_background": "light"
     },
     "output_type": "display_data"
    }
   ],
   "source": [
    "color_dim = 'bs'\n",
    "d = get_data('v100_linear')\n",
    "\n",
    "\n",
    "f, ax = plt.subplots(figsize=(3,3))\n",
    "f, ax, m = plot_roofline(f, ax, d, tpu_peak=112e3, membdw_peak=900, color_dim=color_dim, title='')\n",
    "\n",
    "# sort the legend\n",
    "handles, ls = ax.get_legend_handles_labels()\n",
    "ls = [int(i) for i in ls if i.isdigit()] \n",
    "ls, handles = zip(*sorted(zip(ls, handles), key=lambda t: t[0]))\n",
    "ls = [color_dim + '-' + str(i) for i in ls]\n",
    "ax.legend(handles, ls, frameon=True, fontsize=8)"
   ]
  },
  {
   "cell_type": "code",
   "execution_count": null,
   "metadata": {},
   "outputs": [],
   "source": []
  }
 ],
 "metadata": {
  "kernelspec": {
   "display_name": "torch1.5",
   "language": "python",
   "name": "torch1.5"
  },
  "language_info": {
   "codemirror_mode": {
    "name": "ipython",
    "version": 3
   },
   "file_extension": ".py",
   "mimetype": "text/x-python",
   "name": "python",
   "nbconvert_exporter": "python",
   "pygments_lexer": "ipython3",
   "version": "3.8.8"
  }
 },
 "nbformat": 4,
 "nbformat_minor": 5
}
